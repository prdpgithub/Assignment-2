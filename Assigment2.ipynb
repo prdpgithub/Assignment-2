{
 "cells": [
  {
   "cell_type": "code",
   "execution_count": null,
   "id": "ba8621b0",
   "metadata": {},
   "outputs": [],
   "source": [
    "1.What are the two values of the Boolean data type? How do you write them?\n",
    "Ans.  There are two Boolean. values: True and False. Values in Python can be compared using comparison operations, and Boolean logic can be formulated with the use of logic operations.  Boolean expressions use relational or comparison and logical operators. The result of a Boolean expression is either true or false.\n"
   ]
  },
  {
   "cell_type": "code",
   "execution_count": null,
   "id": "3e78862a",
   "metadata": {},
   "outputs": [],
   "source": [
    "2. What are the three different types of Boolean operators?\n",
    "Ans. There are three types of Boolean operators :- 1. Comparison operators - Comparison operators are used to compare values. It returns either True or False after computing the condition. \n",
    "2. Logical Operators-  Logical Operators are 3 types : and, or, not.\n",
    "3. Truth Table- It is a small table that allows us, to give the results for the logical operators & it has are 3 types : and, or, not table.\n"
   ]
  },
  {
   "cell_type": "code",
   "execution_count": null,
   "id": "e35a903b",
   "metadata": {},
   "outputs": [],
   "source": [
    " 3. Make a list of each Boolean operator's truth tables (i.e. every possible combination of Boolean values for the operator and what it evaluate ).\n",
    "a\tb\ta and b\n",
    "False\tFalse\tFalse\n",
    "False\tTrue\tFalse\n",
    "True\tFalse\tFalse\n",
    "True\tTrue\tTrue\n",
    "Ans.   And table - It takes two operands a , b .\n",
    " \n",
    "Or table- It takes two operands a , b .\n",
    "a\tb\ta or b\n",
    "False\tFalse\tFalse\n",
    "False\tTrue\tTrue\n",
    "True\tFalse\tTrue\n",
    "True\tTrue\tTrue\n",
    " \n",
    "Not table-  It takes two operands a , b .                             \n",
    "a\tNot a\n",
    "False\tTrue\n",
    "True\tFalse\n",
    "\n",
    "\n"
   ]
  },
  {
   "cell_type": "code",
   "execution_count": null,
   "id": "36b4c538",
   "metadata": {},
   "outputs": [],
   "source": [
    "4. What are the values of the following expressions?\n",
    "Ans.\n",
    " (5 > 4) and (3 == 5)            -     False\n",
    "not (5 > 4)                            -     False\n",
    "(5 > 4) or (3 == 5)                 -    True\n",
    "not ((5 > 4) or (3 == 5))       -    False\n",
    "(True and True) and (True == False)    -    False\n",
    "(not False) or (not True)      - True\n"
   ]
  },
  {
   "cell_type": "code",
   "execution_count": null,
   "id": "6253dcff",
   "metadata": {},
   "outputs": [],
   "source": [
    "5. What are the six comparison operators?\n",
    "Ans.  A comparison operator or relational operators compares two values and returns a boolean value, either True or False . There are six comparison operators: less than ( < ), less than or equal to ( <= ), greater than ( > ), greater than or equal to ( >= ), equal to ( == ), and not equal to ( != ).\n"
   ]
  },
  {
   "cell_type": "code",
   "execution_count": null,
   "id": "5ed33c52",
   "metadata": {},
   "outputs": [],
   "source": [
    "6. How do you tell the difference between the equal to and assignment operators? Describe a condition and when you would use one.\n",
    "Ans. The “=” is an assignment operator is used to assign the value on the right to the variable on the left. For e.g., a = 56\n",
    "The '==' operator checks whether the two given operands are equal or not. If so, it returns true. For e.g.,  a = 56, b= 56 then a==b  & it gives True as output.\n"
   ]
  },
  {
   "cell_type": "code",
   "execution_count": null,
   "id": "11f7ce12",
   "metadata": {},
   "outputs": [],
   "source": [
    "7. Identify the three blocks in this code:\n",
    "spam = 0\n",
    "if spam == 10:\n",
    "print('eggs')\n",
    "if spam > 5:\n",
    "print('bacon')\n",
    "else:\n",
    "print('ham')\n",
    "print('spam')\n",
    "print('spam')\n",
    "Ans.  A block is a piece of program text that is executed as a unit. The following are blocks: a module, a function body, and a class definition. Each command typed interactively is a block. \n",
    "The three blocks are everything inside the if statement and the lines print('bacon') and print('ham').\n",
    "\n",
    "   print('eggs')\n",
    "if spam > 5:\n",
    "    print('bacon')\n",
    "else:\n",
    "    print('ham')\n",
    "print('spam')\n"
   ]
  },
  {
   "cell_type": "code",
   "execution_count": null,
   "id": "027779a4",
   "metadata": {},
   "outputs": [],
   "source": [
    "#8. Write code that prints Hello if 1 is stored in spam, prints Howdy if 2 is stored in spam, and prints Greetings! if anything else is stored in spam.\n",
    "#Ans.   \n",
    "spam = int(input())\n",
    "if spam == 1:\n",
    "     print(\"Hello\")\n",
    "elif spam == 2:\n",
    "     print(\"Howdy\")\n",
    "else:\n",
    "     print(\"greetings!\")    \n"
   ]
  },
  {
   "cell_type": "code",
   "execution_count": null,
   "id": "59de1ff0",
   "metadata": {},
   "outputs": [],
   "source": [
    "9.If your programme is stuck in an endless loop, what keys you’ll press?\n",
    "Ans. If your programme is stuck in an endless loop, we can press Ctrl + C or Ctrl + Break\n"
   ]
  },
  {
   "cell_type": "code",
   "execution_count": null,
   "id": "7f4b3767",
   "metadata": {},
   "outputs": [],
   "source": [
    "10. How can you tell the difference between break and continue?\n",
    "Ans.  Break Statement - The break is used to terminate the execution of the statements and iteration of the loop. It will move to the next statement after the loop and continue for different purposes.\n",
    "Continue Statement- This statement skips the rest of the loop statement and starts the next iteration of the loop to take place.\n"
   ]
  },
  {
   "cell_type": "code",
   "execution_count": null,
   "id": "ae3e9871",
   "metadata": {},
   "outputs": [],
   "source": [
    "11. In a for loop, what is the difference between range(10), range(0, 10), and range(0, 10, 1)?\n",
    "Ans.  range(10) = range(stop) : here you can pass only one argument to the range(), it will generate a sequence of integers starting from 0 to stop -1. Here, start = 0 and step = 1 as a default value.If you set the stop as a 0 or some negative value, then the range will return an empty sequence.\n",
    "range(0,10) = range(start,stop) : When you pass two arguments to the range(), it will generate integers starting from the start number to stop -1. Here, start = 0 and step = 1 as a default value. If you set the stop as a 0 or some negative value, then the range will return an empty sequence.\n",
    "range(0,10,1) = range(start,stop,step) : When you pass all three arguments to the range(), it will return a sequence of numbers, starting from the start number, increments by step number, and stops before a stop number. Here, the step = 0 as a default value. Python will raise a ValueError exception if you set the step to 0.\n"
   ]
  },
  {
   "cell_type": "code",
   "execution_count": null,
   "id": "142e659b",
   "metadata": {},
   "outputs": [],
   "source": [
    "#12. Write a short program that prints the numbers 1 to 10 using a for loop. Then write an equivalent program that prints the numbers 1 to 10 using a while loop.\n",
    "#Ans.    program that prints the numbers 1 to 10 using a for loop\n",
    "\n",
    "     l= range(1,11)\n",
    "    for i in l:\n",
    "        print(i)\n",
    "\n"
   ]
  },
  {
   "cell_type": "code",
   "execution_count": null,
   "id": "bfd368ea",
   "metadata": {},
   "outputs": [],
   "source": [
    "#program that prints the numbers 1 to 10 using a while loop.\n",
    "      i=1\n",
    "    while i>11:\n",
    "    print(i)\n",
    "    i=i+1\n"
   ]
  },
  {
   "cell_type": "code",
   "execution_count": null,
   "id": "cf9b3991",
   "metadata": {},
   "outputs": [],
   "source": [
    "\n",
    "13. If you had a function named bacon() inside a module named spam, how would you call it after importing spam?\n",
    "Ans.  This function can be called with spam.bacon().\n"
   ]
  }
 ],
 "metadata": {
  "kernelspec": {
   "display_name": "Python 3 (ipykernel)",
   "language": "python",
   "name": "python3"
  },
  "language_info": {
   "codemirror_mode": {
    "name": "ipython",
    "version": 3
   },
   "file_extension": ".py",
   "mimetype": "text/x-python",
   "name": "python",
   "nbconvert_exporter": "python",
   "pygments_lexer": "ipython3",
   "version": "3.9.7"
  }
 },
 "nbformat": 4,
 "nbformat_minor": 5
}
